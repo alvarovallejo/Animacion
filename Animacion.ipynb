{
 "cells": [
  {
   "cell_type": "markdown",
   "id": "71b39a44",
   "metadata": {},
   "source": [
    "El programa genera una animación (en forma de archivo gif) para un punto moviéndose en un espacio de fases dado. Se pueden definir los parámetros de la animación y los del espacio de fases (se explica más abajo como cambiarlos). Al ejecutar el programa se generará un gif que se guardará en la misma carpeta en la que esté este archivo. (Para cambiar el nombre del archivo ver la última casilla del archivo)\n",
    "\n",
    "Para ejecutar el programa hay que darle al botón \"Run\" de tal forma que se ejecuten todas las casillas por orden. \n",
    "\n",
    "Otra forma más sencilla es darle a \"Run\" y en el submenú a \"Run all cells\""
   ]
  },
  {
   "cell_type": "code",
   "execution_count": 17,
   "id": "b03de04f-fc0f-490c-b63b-eae54f711c9e",
   "metadata": {},
   "outputs": [],
   "source": [
    "import matplotlib.pyplot as plt\n",
    "from matplotlib import cm\n",
    "import numpy as np\n",
    "from matplotlib.animation import PillowWriter\n",
    "from tqdm.auto import tqdm\n",
    "%matplotlib inline"
   ]
  },
  {
   "cell_type": "markdown",
   "id": "81430c65",
   "metadata": {},
   "source": [
    "En la siguiente casilla se modifican los parámetros del gráfico.\n",
    "\n",
    "\"tamaño\" indica los límites del gráfico (tomará valores de -tamaño a +tamaño.\n",
    "\n",
    "x_0 e y_0 indican la posición inicial en el espacio de fases.\n",
    "\n",
    "\"delta\" es el intervalo de tiempo que se toma para realizar los cálculos, si se pone un valor demasiado alto el gráfico será impreciso pero si se toma demasiado bajo el punto avanzará muy despacio. El que está puesto (0.03) es un buen balance.\n",
    "\n",
    "\"num_flech\" es el número de flechas (en filas y columnas) que tendrá la representación del mapa vectorial.\n",
    "\n",
    "\"num_punt\" marca la longitud de la estela que deja el punto.\n",
    "\n",
    "\"frames\" el número de imágenes que tendrá la animación.\n",
    "\n",
    "\"velocidad\" la velocidad de reproducción de la animación."
   ]
  },
  {
   "cell_type": "code",
   "execution_count": 18,
   "id": "58b6989d-e8b9-4ce2-8505-ed6535257531",
   "metadata": {},
   "outputs": [],
   "source": [
    "tamaño = 6\n",
    "x_0 = 0\n",
    "y_0 = 2\n",
    "delta = 0.03\n",
    "num_flech = 20\n",
    "num_punt = 250\n",
    "frames = 240\n",
    "velocidad = 30"
   ]
  },
  {
   "cell_type": "markdown",
   "id": "5d346b47",
   "metadata": {},
   "source": [
    "En la casilla de abajo se indican los valores para la derivada de x (der_x) y la derivada de y (der_y). Después del \"return\" debajo de cada uno se indica la fórmula correspondiente. (Para funciones como seno o logaritmo se debe utilizar la función de numpy)."
   ]
  },
  {
   "cell_type": "code",
   "execution_count": 19,
   "id": "74b2d325-278b-4886-b1a5-1af684e4f5a9",
   "metadata": {},
   "outputs": [],
   "source": [
    "def der_x(x,y):\n",
    "    return np.sin(y)\n",
    "\n",
    "def der_y(x,y):\n",
    "    return x + x**3"
   ]
  },
  {
   "cell_type": "code",
   "execution_count": 20,
   "id": "57bb7020-f5ad-4539-ba91-4b926ba5d597",
   "metadata": {},
   "outputs": [
    {
     "data": {
      "image/png": "[encoded data removed]",
      "text/plain": [
       "<Figure size 640x480 with 1 Axes>"
      ]
     },
     "metadata": {},
     "output_type": "display_data"
    }
   ],
   "source": [
    "fig, ax = plt.subplots()\n",
    "plt.gca().set_aspect(\"equal\")\n",
    "fig.tight_layout()\n",
    "ax.set_xlim(-tamaño,tamaño)\n",
    "ax.set_ylim(-tamaño,tamaño)\n",
    "fig.tight_layout()"
   ]
  },
  {
   "cell_type": "code",
   "execution_count": 21,
   "id": "454e663f-8c25-400b-98f7-6ca6afc25890",
   "metadata": {},
   "outputs": [
    {
     "data": {
      "text/plain": [
       "<matplotlib.quiver.Quiver at 0x1e476ca22b0>"
      ]
     },
     "execution_count": 21,
     "metadata": {},
     "output_type": "execute_result"
    }
   ],
   "source": [
    "x, y = np.meshgrid(np.linspace(-tamaño,tamaño,num_flech),np.linspace(-tamaño,tamaño,num_flech))\n",
    "x_m = der_x(x,y)\n",
    "y_m = der_y(x,y)\n",
    "mod = np.sqrt(x_m**2 + y_m**2)\n",
    "x_m = x_m/mod\n",
    "y_m = y_m/mod\n",
    "ax.quiver(x,y,x_m,y_m)   "
   ]
  },
  {
   "cell_type": "code",
   "execution_count": 22,
   "id": "6e9843cf-2c33-4ca6-9594-1c97ab8b8d73",
   "metadata": {},
   "outputs": [],
   "source": [
    "x_p = x_0\n",
    "y_p = y_0\n",
    "x_b = 0\n",
    "y_b = 0\n",
    "colors = plt.cm.Purples(np.linspace(0,1,num_punt))\n",
    "x_v = np.zeros(num_punt)\n",
    "y_v = np.zeros(num_punt)\n",
    "t = np.arange(num_punt)"
   ]
  },
  {
   "cell_type": "markdown",
   "id": "c75a6894",
   "metadata": {},
   "source": [
    "Para cambiar el nombre del archivo hay que cambiar el texto donde pone \"Animation.gif\". Es importante que el nuevo nombre esté entre comillas y acabe en .gif.\n",
    "\n",
    "<b>PRECAUCIÓN</b> Si el nombre del archivo gif generado coincide con otro gif que esté en la misma carpeta sobrescribirá el archivo anterior.\n",
    "\n",
    "Una vez ejecutada esta casilla aparecerá debajo de esta una barra de progreso que indica el tiempo para que acabe de realizarse la animación."
   ]
  },
  {
   "cell_type": "code",
   "execution_count": 23,
   "id": "79d1aac7-0deb-40e1-8756-d941f9daa611",
   "metadata": {
    "jupyter": {
     "source_hidden": true
    },
    "tags": []
   },
   "outputs": [
    {
     "data": {
      "application/vnd.jupyter.widget-view+json": {
       "model_id": "a863520ea7584ed6812ad7b781b76d0d",
       "version_major": 2,
       "version_minor": 0
      },
      "text/plain": [
       "  0%|          | 0/240 [00:00<?, ?it/s]"
      ]
     },
     "metadata": {},
     "output_type": "display_data"
    }
   ],
   "source": [
    "writer = PillowWriter(fps=velocidad)\n",
    "with writer.saving(fig,\"Animation.gif\",100):\n",
    "    for i in tqdm(range(frames)):\n",
    "\n",
    "        x_v = np.insert(x_v,0,x_b)\n",
    "        y_v = np.insert(y_v,0,y_b)\n",
    "        \n",
    "        x_v = x_v[0:num_punt]\n",
    "        y_v = y_v[0:num_punt]\n",
    "\n",
    "        ax.clear()        \n",
    "        ax.set_xlim(-tamaño,tamaño)\n",
    "        ax.set_ylim(-tamaño,tamaño)\n",
    "        \n",
    "        #cambiar la x por lo que manda, idem y (multiplicado por tiempo) \n",
    "        x_b = x_p\n",
    "        y_b = y_p\n",
    "        x_p += delta*(der_x(x_b,y_b))\n",
    "        y_p += delta*(der_y(x_b,y_b))  \n",
    "    \n",
    "        #Dibujar el punto\n",
    "        # plt.plot(x_v,y_v,c=colors[80],linewidth=10,zorder=0)\n",
    "        ax.scatter(x_v,y_v,c=t,cmap='Purples_r',zorder=1)\n",
    "        ax.quiver(x,y,x_m,y_m)\n",
    "\n",
    "        ##Progress bar\n",
    "        barra = ''\n",
    "        \n",
    "        \n",
    "        writer.grab_frame()"
   ]
  },
  {
   "cell_type": "code",
   "execution_count": null,
   "id": "0018dfae-c836-4b0b-ae45-10bd7b8b3afc",
   "metadata": {
    "jupyter": {
     "source_hidden": true
    },
    "tags": []
   },
   "outputs": [],
   "source": []
  }
 ],
 "metadata": {
  "kernelspec": {
   "display_name": "Python 3 (ipykernel)",
   "language": "python",
   "name": "python3"
  },
  "language_info": {
   "codemirror_mode": {
    "name": "ipython",
    "version": 3
   },
   "file_extension": ".py",
   "mimetype": "text/x-python",
   "name": "python",
   "nbconvert_exporter": "python",
   "pygments_lexer": "ipython3",
   "version": "3.9.7"
  }
 },
 "nbformat": 4,
 "nbformat_minor": 5
}
